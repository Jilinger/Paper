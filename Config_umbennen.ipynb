{
 "cells": [
  {
   "cell_type": "code",
   "execution_count": 8,
   "metadata": {},
   "outputs": [],
   "source": [
    "import numpy as np\n",
    "import os\n",
    "import scipy\n",
    "from scipy import spatial"
   ]
  },
  {
   "cell_type": "markdown",
   "metadata": {},
   "source": [
    "#### Einlesen, wieviele"
   ]
  },
  {
   "cell_type": "code",
   "execution_count": 41,
   "metadata": {},
   "outputs": [
    {
     "name": "stdout",
     "output_type": "stream",
     "text": [
      "# files in Ordner atom_15000:  10\n"
     ]
    }
   ],
   "source": [
    "r_b=5\n",
    "density=0.54\n",
    "\n",
    "anzahl=np.array([2500,5000,7500,10000,12500,15000])\n",
    "\n",
    "speicher_atome=np.zeros(len(anzahl),int)\n",
    "\n",
    "s=0\n",
    "for number_atoms in anzahl:\n",
    "    radius = (np.sqrt(number_atoms*r_b**2/density))\n",
    "    #folder_a= \"/home/jp/Dokumente/Bachelorarbeit/Überarbeitung/configurations/density_0.54/atoms_\"+str(number_atoms)\n",
    "    folder_a= \"/home/hd/hd_hd/hd_wo455/Schreibtisch/Configurations/density_0.54/atoms_\"+str(number_atoms)\n",
    "    if number_atoms>1000:\n",
    "        if not os.path.exists(folder_a):\n",
    "            os.makedirs(folder_a)\n",
    "            print(folder_a +\" erstellt\")\n",
    "\n",
    "        path, dirs, files = next(os.walk(folder_a))\n",
    "        speicher_atome[s] = len(files)\n",
    "    \n",
    "    print(\"# files in Ordner atom_\"+str(number_atoms)+\": \", speicher_atome[s])\n",
    "    s+=1"
   ]
  },
  {
   "cell_type": "markdown",
   "metadata": {},
   "source": [
    "#### Umbennen"
   ]
  },
  {
   "cell_type": "code",
   "execution_count": 24,
   "metadata": {},
   "outputs": [
    {
     "ename": "FileNotFoundError",
     "evalue": "[Errno 2] No such file or directory: '/home/jp/Dokumente/Bachelorarbeit/Überarbeitung/configurations/density_0.54/atoms_7500/atoms_0.npy' -> '/home/jp/Dokumente/Bachelorarbeit/Überarbeitung/configurations/density_0.54/atoms_7500/atoms_200.npy'",
     "output_type": "error",
     "traceback": [
      "\u001b[0;31m---------------------------------------------------------------------------\u001b[0m",
      "\u001b[0;31mFileNotFoundError\u001b[0m                         Traceback (most recent call last)",
      "\u001b[0;32m<ipython-input-24-47b49f848535>\u001b[0m in \u001b[0;36m<module>\u001b[0;34m\u001b[0m\n\u001b[1;32m      7\u001b[0m         \u001b[0mfolder_a\u001b[0m\u001b[0;34m=\u001b[0m\u001b[0;34m\"/home/jp/Dokumente/Bachelorarbeit/Überarbeitung/configurations/density_0.54/atoms_\"\u001b[0m\u001b[0;34m+\u001b[0m\u001b[0mstr\u001b[0m\u001b[0;34m(\u001b[0m\u001b[0mnumber_atoms\u001b[0m\u001b[0;34m)\u001b[0m\u001b[0;34m\u001b[0m\u001b[0m\n\u001b[1;32m      8\u001b[0m \u001b[0;34m\u001b[0m\u001b[0m\n\u001b[0;32m----> 9\u001b[0;31m         \u001b[0mos\u001b[0m\u001b[0;34m.\u001b[0m\u001b[0mrename\u001b[0m\u001b[0;34m(\u001b[0m\u001b[0mfolder_a\u001b[0m\u001b[0;34m+\u001b[0m\u001b[0;34m\"/atoms_\"\u001b[0m\u001b[0;34m+\u001b[0m\u001b[0mstr\u001b[0m\u001b[0;34m(\u001b[0m\u001b[0msave_nr\u001b[0m\u001b[0;34m)\u001b[0m\u001b[0;34m+\u001b[0m\u001b[0;34m\".npy\"\u001b[0m\u001b[0;34m,\u001b[0m \u001b[0mfolder_a\u001b[0m\u001b[0;34m+\u001b[0m\u001b[0;34m\"/atoms_\"\u001b[0m\u001b[0;34m+\u001b[0m\u001b[0mstr\u001b[0m\u001b[0;34m(\u001b[0m\u001b[0mi\u001b[0m\u001b[0;34m)\u001b[0m\u001b[0;34m+\u001b[0m\u001b[0;34m\".npy\"\u001b[0m\u001b[0;34m)\u001b[0m\u001b[0;34m\u001b[0m\u001b[0m\n\u001b[0m\u001b[1;32m     10\u001b[0m         \u001b[0msave_nr\u001b[0m\u001b[0;34m+=\u001b[0m\u001b[0;36m1\u001b[0m\u001b[0;34m\u001b[0m\u001b[0m\n\u001b[1;32m     11\u001b[0m         \u001b[0mi\u001b[0m\u001b[0;34m+=\u001b[0m\u001b[0;36m1\u001b[0m\u001b[0;34m\u001b[0m\u001b[0m\n",
      "\u001b[0;31mFileNotFoundError\u001b[0m: [Errno 2] No such file or directory: '/home/jp/Dokumente/Bachelorarbeit/Überarbeitung/configurations/density_0.54/atoms_7500/atoms_0.npy' -> '/home/jp/Dokumente/Bachelorarbeit/Überarbeitung/configurations/density_0.54/atoms_7500/atoms_200.npy'"
     ]
    }
   ],
   "source": [
    "# alle auf 200 schreiben, damit keine doppelbennungen entstehen\n",
    "for number_atoms,z in zip(anzahl,speicher_atome):\n",
    "    save_nr=0\n",
    "    i=200\n",
    "    for k in range(z):\n",
    "        \n",
    "        folder_a=\"/home/jp/Dokumente/Bachelorarbeit/Überarbeitung/configurations/density_0.54/atoms_\"+str(number_atoms)\n",
    "\n",
    "        os.rename(folder_a+\"/atoms_\"+str(save_nr)+\".npy\", folder_a+\"/atoms_\"+str(i)+\".npy\")\n",
    "        save_nr+=1\n",
    "        i+=1"
   ]
  },
  {
   "cell_type": "code",
   "execution_count": 38,
   "metadata": {},
   "outputs": [
    {
     "ename": "FileNotFoundError",
     "evalue": "[Errno 2] No such file or directory: '/home/jp/Dokumente/Bachelorarbeit/Überarbeitung/configurations/density_0.54/atoms_7500/atoms_200.npy' -> '/home/jp/Dokumente/Bachelorarbeit/Überarbeitung/configurations/density_0.54/atoms_7500/atoms_50.npy'",
     "output_type": "error",
     "traceback": [
      "\u001b[0;31m---------------------------------------------------------------------------\u001b[0m",
      "\u001b[0;31mFileNotFoundError\u001b[0m                         Traceback (most recent call last)",
      "\u001b[0;32m<ipython-input-38-af94b439b938>\u001b[0m in \u001b[0;36m<module>\u001b[0;34m\u001b[0m\n\u001b[1;32m      6\u001b[0m         \u001b[0mfolder_a\u001b[0m\u001b[0;34m=\u001b[0m\u001b[0;34m\"/home/jp/Dokumente/Bachelorarbeit/Überarbeitung/configurations/density_0.54/atoms_\"\u001b[0m\u001b[0;34m+\u001b[0m\u001b[0mstr\u001b[0m\u001b[0;34m(\u001b[0m\u001b[0mnumber_atoms\u001b[0m\u001b[0;34m)\u001b[0m\u001b[0;34m\u001b[0m\u001b[0m\n\u001b[1;32m      7\u001b[0m \u001b[0;34m\u001b[0m\u001b[0m\n\u001b[0;32m----> 8\u001b[0;31m         \u001b[0mos\u001b[0m\u001b[0;34m.\u001b[0m\u001b[0mrename\u001b[0m\u001b[0;34m(\u001b[0m\u001b[0mfolder_a\u001b[0m\u001b[0;34m+\u001b[0m\u001b[0;34m\"/atoms_\"\u001b[0m\u001b[0;34m+\u001b[0m\u001b[0mstr\u001b[0m\u001b[0;34m(\u001b[0m\u001b[0msave_nr\u001b[0m\u001b[0;34m)\u001b[0m\u001b[0;34m+\u001b[0m\u001b[0;34m\".npy\"\u001b[0m\u001b[0;34m,\u001b[0m \u001b[0mfolder_a\u001b[0m\u001b[0;34m+\u001b[0m\u001b[0;34m\"/atoms_\"\u001b[0m\u001b[0;34m+\u001b[0m\u001b[0mstr\u001b[0m\u001b[0;34m(\u001b[0m\u001b[0mi\u001b[0m\u001b[0;34m)\u001b[0m\u001b[0;34m+\u001b[0m\u001b[0;34m\".npy\"\u001b[0m\u001b[0;34m)\u001b[0m\u001b[0;34m\u001b[0m\u001b[0m\n\u001b[0m\u001b[1;32m      9\u001b[0m         \u001b[0msave_nr\u001b[0m\u001b[0;34m+=\u001b[0m\u001b[0;36m1\u001b[0m\u001b[0;34m\u001b[0m\u001b[0m\n\u001b[1;32m     10\u001b[0m         \u001b[0mi\u001b[0m\u001b[0;34m+=\u001b[0m\u001b[0;36m1\u001b[0m\u001b[0;34m\u001b[0m\u001b[0m\n",
      "\u001b[0;31mFileNotFoundError\u001b[0m: [Errno 2] No such file or directory: '/home/jp/Dokumente/Bachelorarbeit/Überarbeitung/configurations/density_0.54/atoms_7500/atoms_200.npy' -> '/home/jp/Dokumente/Bachelorarbeit/Überarbeitung/configurations/density_0.54/atoms_7500/atoms_50.npy'"
     ]
    }
   ],
   "source": [
    "for number_atoms,z in zip(anzahl,speicher_atome):\n",
    "    save_nr=200\n",
    "    i=50\n",
    "    for k in range(z):\n",
    "        \n",
    "        folder_a=\"/home/jp/Dokumente/Bachelorarbeit/Überarbeitung/configurations/density_0.54/atoms_\"+str(number_atoms)\n",
    "\n",
    "        os.rename(folder_a+\"/atoms_\"+str(save_nr)+\".npy\", folder_a+\"/atoms_\"+str(i)+\".npy\")\n",
    "        save_nr+=1\n",
    "        i+=1"
   ]
  },
  {
   "cell_type": "markdown",
   "metadata": {},
   "source": [
    "#### Testen, ob die density und r_b bei allen files passt"
   ]
  },
  {
   "cell_type": "code",
   "execution_count": 42,
   "metadata": {},
   "outputs": [
    {
     "name": "stdout",
     "output_type": "stream",
     "text": [
      "15000\n",
      "15000 833.0 10.0 0.54\n",
      "15000 833.0 10.0 0.54\n",
      "15000 833.0 10.0 0.54\n",
      "15000 833.0 10.0 0.54\n",
      "15000 833.0 10.0 0.54\n",
      "15000 833.0 10.0 0.54\n",
      "15000 833.0 10.0 0.54\n",
      "15000 833.0 10.0 0.54\n",
      "15000 833.0 10.0 0.54\n",
      "15000 833.0 10.0 0.54\n"
     ]
    }
   ],
   "source": [
    "for number_atoms,z in zip(anzahl,speicher_atome):\n",
    "    save_nr=28\n",
    "    print(number_atoms)\n",
    "    for k in range(z):\n",
    "        #folder_a= \"/home/jp/Dokumente/Bachelorarbeit/Überarbeitung/configurations/density_\"+str(np.round(density,3))+\"/atoms_\"+str(number_atoms)\n",
    "        folder_a= \"/home/hd/hd_hd/hd_wo455/Schreibtisch/Configurations/density_0.54/atoms_\"+str(number_atoms)\n",
    "        data = open(folder_a+\"/atoms\"+\"_\"+str(save_nr)+\".npy\",\"rb\")\n",
    "        a=np.load(data)\n",
    "\n",
    "        n=len(a)\n",
    "        r=np.max(scipy.spatial.distance.cdist(a, [[0,0]], metric='euclidean'))\n",
    "        rr_b =np.min(scipy.spatial.distance.cdist(a, a, metric='euclidean')[scipy.spatial.distance.cdist(a, a, metric='euclidean')>0])\n",
    "        dens=n*(rr_b/2)**2/r**2\n",
    "        print(n, np.round(r,0), np.round(rr_b,2),np.round(dens,3))\n",
    "        \n",
    "        save_nr+=1"
   ]
  },
  {
   "cell_type": "code",
   "execution_count": 22,
   "metadata": {},
   "outputs": [],
   "source": [
    "number_atoms=7500\n",
    "save_nr=64\n",
    "folder_a=\"/home/jp/Dokumente/Bachelorarbeit/Überarbeitung/configurations/density_0.54/atoms_\"+str(number_atoms)\n",
    "data = open(folder_a+\"/atoms\"+\"_\"+str(save_nr)+\".npy\",\"rb\")\n",
    "a=np.load(data)"
   ]
  }
 ],
 "metadata": {
  "kernelspec": {
   "display_name": "Python 3",
   "language": "python",
   "name": "python3"
  },
  "language_info": {
   "codemirror_mode": {
    "name": "ipython",
    "version": 3
   },
   "file_extension": ".py",
   "mimetype": "text/x-python",
   "name": "python",
   "nbconvert_exporter": "python",
   "pygments_lexer": "ipython3",
   "version": "3.5.2"
  }
 },
 "nbformat": 4,
 "nbformat_minor": 2
}
